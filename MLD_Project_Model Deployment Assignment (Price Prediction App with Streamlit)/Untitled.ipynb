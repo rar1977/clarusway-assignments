{
 "cells": [
  {
   "cell_type": "code",
   "execution_count": 8,
   "id": "95d9afbb-efe0-4285-95fe-cfd37e6bed15",
   "metadata": {
    "tags": []
   },
   "outputs": [
    {
     "name": "stdout",
     "output_type": "stream",
     "text": [
      "Collecting dtale\n",
      "  Obtaining dependency information for dtale from https://files.pythonhosted.org/packages/60/20/59a88f23ed06929d6ba5caee48e572a80d46ee3b2cfabe72f1782ceba34f/dtale-3.3.0-py2.py3-none-any.whl.metadata\n",
      "  Downloading dtale-3.3.0-py2.py3-none-any.whl.metadata (15 kB)\n",
      "Collecting dash-colorscales (from dtale)\n",
      "  Using cached dash_colorscales-0.0.4.tar.gz (62 kB)\n",
      "  Preparing metadata (setup.py) ... \u001b[?25ldone\n",
      "\u001b[?25hCollecting dash-daq (from dtale)\n",
      "  Using cached dash_daq-0.5.0.tar.gz (642 kB)\n",
      "  Preparing metadata (setup.py) ... \u001b[?25ldone\n",
      "\u001b[?25hCollecting Flask-Compress (from dtale)\n",
      "  Using cached Flask_Compress-1.13-py3-none-any.whl (7.9 kB)\n",
      "Collecting future>=0.14.0 (from dtale)\n",
      "  Downloading future-0.18.3.tar.gz (840 kB)\n",
      "\u001b[2K     \u001b[90m━━━━━━━━━━━━━━━━━━━━━━━━━━━━━━━━━━━━━━━\u001b[0m \u001b[32m840.9/840.9 kB\u001b[0m \u001b[31m5.1 MB/s\u001b[0m eta \u001b[36m0:00:00\u001b[0m00:01\u001b[0m00:01\u001b[0m\n",
      "\u001b[?25h  Preparing metadata (setup.py) ... \u001b[?25ldone\n",
      "\u001b[?25hCollecting kaleido (from dtale)\n",
      "  Using cached kaleido-0.2.1-py2.py3-none-macosx_10_11_x86_64.whl (85.2 MB)\n",
      "Collecting missingno (from dtale)\n",
      "  Using cached missingno-0.5.2-py3-none-any.whl (8.7 kB)\n",
      "Requirement already satisfied: pandas in /Applications/anaconda3/envs/Clarusway/lib/python3.10/site-packages (from dtale) (1.5.3)\n",
      "Collecting squarify (from dtale)\n",
      "  Using cached squarify-0.4.3-py3-none-any.whl (4.3 kB)\n",
      "Collecting strsimpy (from dtale)\n",
      "  Using cached strsimpy-0.2.1-py3-none-any.whl (45 kB)\n",
      "Requirement already satisfied: six in /Applications/anaconda3/envs/Clarusway/lib/python3.10/site-packages (from dtale) (1.16.0)\n",
      "Collecting xlrd (from dtale)\n",
      "  Downloading xlrd-2.0.1-py2.py3-none-any.whl (96 kB)\n",
      "\u001b[2K     \u001b[90m━━━━━━━━━━━━━━━━━━━━━━━━━━━━━━━━━━━━━━━━\u001b[0m \u001b[32m96.5/96.5 kB\u001b[0m \u001b[31m4.6 MB/s\u001b[0m eta \u001b[36m0:00:00\u001b[0m\n",
      "\u001b[?25hRequirement already satisfied: beautifulsoup4 in /Applications/anaconda3/envs/Clarusway/lib/python3.10/site-packages (from dtale) (4.12.2)\n",
      "Requirement already satisfied: certifi in /Applications/anaconda3/envs/Clarusway/lib/python3.10/site-packages (from dtale) (2023.7.22)\n",
      "Requirement already satisfied: cycler in /Applications/anaconda3/envs/Clarusway/lib/python3.10/site-packages (from dtale) (0.11.0)\n",
      "Collecting flask-ngrok (from dtale)\n",
      "  Using cached flask_ngrok-0.0.25-py3-none-any.whl (3.1 kB)\n",
      "Requirement already satisfied: lz4 in /Applications/anaconda3/envs/Clarusway/lib/python3.10/site-packages (from dtale) (4.3.2)\n",
      "Collecting dash-bootstrap-components<=1.3.1 (from dtale)\n",
      "  Using cached dash_bootstrap_components-1.3.1-py3-none-any.whl (219 kB)\n",
      "Requirement already satisfied: seaborn in /Applications/anaconda3/envs/Clarusway/lib/python3.10/site-packages (from dtale) (0.12.2)\n",
      "Requirement already satisfied: networkx in /Applications/anaconda3/envs/Clarusway/lib/python3.10/site-packages (from dtale) (2.8.4)\n",
      "Requirement already satisfied: scikit-learn in /Applications/anaconda3/envs/Clarusway/lib/python3.10/site-packages (from dtale) (1.2.2)\n",
      "Requirement already satisfied: statsmodels in /Applications/anaconda3/envs/Clarusway/lib/python3.10/site-packages (from dtale) (0.13.5)\n",
      "Requirement already satisfied: numpy in /Applications/anaconda3/envs/Clarusway/lib/python3.10/site-packages (from dtale) (1.24.3)\n",
      "Collecting openpyxl!=3.2.0b1 (from dtale)\n",
      "  Downloading openpyxl-3.1.2-py2.py3-none-any.whl (249 kB)\n",
      "\u001b[2K     \u001b[90m━━━━━━━━━━━━━━━━━━━━━━━━━━━━━━━━━━━━━━━\u001b[0m \u001b[32m250.0/250.0 kB\u001b[0m \u001b[31m3.8 MB/s\u001b[0m eta \u001b[36m0:00:00\u001b[0ma \u001b[36m0:00:01\u001b[0m\n",
      "\u001b[?25hCollecting xarray (from dtale)\n",
      "  Obtaining dependency information for xarray from https://files.pythonhosted.org/packages/cc/21/c3a9d3017c131cea3c2967957b05448ffc81cafced239796bbbdc98073e4/xarray-2023.8.0-py3-none-any.whl.metadata\n",
      "  Downloading xarray-2023.8.0-py3-none-any.whl.metadata (6.0 kB)\n",
      "Collecting dash (from dtale)\n",
      "  Obtaining dependency information for dash from https://files.pythonhosted.org/packages/9b/b4/d522c16b41a8da013fd60a67f9618e57c504cd2c80e02a7a861413b93906/dash-2.13.0-py3-none-any.whl.metadata\n",
      "  Downloading dash-2.13.0-py3-none-any.whl.metadata (11 kB)\n",
      "Collecting et-xmlfile (from dtale)\n",
      "  Downloading et_xmlfile-1.1.0-py3-none-any.whl (4.7 kB)\n",
      "Requirement already satisfied: plotly in /Applications/anaconda3/envs/Clarusway/lib/python3.10/site-packages (from dtale) (5.9.0)\n",
      "Requirement already satisfied: Flask<2.3 in /Applications/anaconda3/envs/Clarusway/lib/python3.10/site-packages (from dtale) (2.2.2)\n",
      "Requirement already satisfied: itsdangerous in /Applications/anaconda3/envs/Clarusway/lib/python3.10/site-packages (from dtale) (2.0.1)\n",
      "Requirement already satisfied: requests in /Applications/anaconda3/envs/Clarusway/lib/python3.10/site-packages (from dtale) (2.29.0)\n",
      "Requirement already satisfied: werkzeug<2.3 in /Applications/anaconda3/envs/Clarusway/lib/python3.10/site-packages (from dtale) (2.2.3)\n",
      "Requirement already satisfied: matplotlib in /Applications/anaconda3/envs/Clarusway/lib/python3.10/site-packages (from dtale) (3.4.0)\n",
      "Requirement already satisfied: scipy in /Applications/anaconda3/envs/Clarusway/lib/python3.10/site-packages (from dtale) (1.10.1)\n",
      "Collecting dash-html-components==2.0.0 (from dash->dtale)\n",
      "  Using cached dash_html_components-2.0.0-py3-none-any.whl (4.1 kB)\n",
      "Collecting dash-core-components==2.0.0 (from dash->dtale)\n",
      "  Using cached dash_core_components-2.0.0-py3-none-any.whl (3.8 kB)\n",
      "Collecting dash-table==5.0.0 (from dash->dtale)\n",
      "  Using cached dash_table-5.0.0-py3-none-any.whl (3.9 kB)\n",
      "Requirement already satisfied: typing-extensions>=4.1.1 in /Applications/anaconda3/envs/Clarusway/lib/python3.10/site-packages (from dash->dtale) (4.7.1)\n",
      "Collecting retrying (from dash->dtale)\n",
      "  Using cached retrying-1.3.4-py3-none-any.whl (11 kB)\n",
      "Collecting ansi2html (from dash->dtale)\n",
      "  Using cached ansi2html-1.8.0-py3-none-any.whl (16 kB)\n",
      "Requirement already satisfied: nest-asyncio in /Applications/anaconda3/envs/Clarusway/lib/python3.10/site-packages (from dash->dtale) (1.5.6)\n",
      "Requirement already satisfied: setuptools in /Applications/anaconda3/envs/Clarusway/lib/python3.10/site-packages (from dash->dtale) (68.0.0)\n",
      "Requirement already satisfied: Jinja2>=3.0 in /Applications/anaconda3/envs/Clarusway/lib/python3.10/site-packages (from Flask<2.3->dtale) (3.1.2)\n",
      "Requirement already satisfied: click>=8.0 in /Applications/anaconda3/envs/Clarusway/lib/python3.10/site-packages (from Flask<2.3->dtale) (8.0.4)\n",
      "Requirement already satisfied: tenacity>=6.2.0 in /Applications/anaconda3/envs/Clarusway/lib/python3.10/site-packages (from plotly->dtale) (8.2.2)\n",
      "Requirement already satisfied: MarkupSafe>=2.1.1 in /Applications/anaconda3/envs/Clarusway/lib/python3.10/site-packages (from werkzeug<2.3->dtale) (2.1.1)\n",
      "Requirement already satisfied: soupsieve>1.2 in /Applications/anaconda3/envs/Clarusway/lib/python3.10/site-packages (from beautifulsoup4->dtale) (2.4)\n",
      "Collecting brotli (from Flask-Compress->dtale)\n",
      "  Downloading Brotli-1.0.9-cp310-cp310-macosx_10_9_x86_64.whl (421 kB)\n",
      "\u001b[2K     \u001b[90m━━━━━━━━━━━━━━━━━━━━━━━━━━━━━━━━━━━━━━━\u001b[0m \u001b[32m421.8/421.8 kB\u001b[0m \u001b[31m6.7 MB/s\u001b[0m eta \u001b[36m0:00:00\u001b[0ma \u001b[36m0:00:01\u001b[0m\n",
      "\u001b[?25hRequirement already satisfied: kiwisolver>=1.0.1 in /Applications/anaconda3/envs/Clarusway/lib/python3.10/site-packages (from matplotlib->dtale) (1.4.4)\n",
      "Requirement already satisfied: pillow>=6.2.0 in /Applications/anaconda3/envs/Clarusway/lib/python3.10/site-packages (from matplotlib->dtale) (9.4.0)\n",
      "Requirement already satisfied: pyparsing>=2.2.1 in /Applications/anaconda3/envs/Clarusway/lib/python3.10/site-packages (from matplotlib->dtale) (3.0.9)\n",
      "Requirement already satisfied: python-dateutil>=2.7 in /Applications/anaconda3/envs/Clarusway/lib/python3.10/site-packages (from matplotlib->dtale) (2.8.2)\n",
      "Requirement already satisfied: pytz>=2020.1 in /Applications/anaconda3/envs/Clarusway/lib/python3.10/site-packages (from pandas->dtale) (2022.7)\n",
      "Requirement already satisfied: charset-normalizer<4,>=2 in /Applications/anaconda3/envs/Clarusway/lib/python3.10/site-packages (from requests->dtale) (2.0.4)\n",
      "Requirement already satisfied: idna<4,>=2.5 in /Applications/anaconda3/envs/Clarusway/lib/python3.10/site-packages (from requests->dtale) (3.4)\n",
      "Requirement already satisfied: urllib3<1.27,>=1.21.1 in /Applications/anaconda3/envs/Clarusway/lib/python3.10/site-packages (from requests->dtale) (1.26.16)\n",
      "Requirement already satisfied: joblib>=1.1.1 in /Applications/anaconda3/envs/Clarusway/lib/python3.10/site-packages (from scikit-learn->dtale) (1.2.0)\n",
      "Requirement already satisfied: threadpoolctl>=2.0.0 in /Applications/anaconda3/envs/Clarusway/lib/python3.10/site-packages (from scikit-learn->dtale) (2.2.0)\n",
      "Requirement already satisfied: patsy>=0.5.2 in /Applications/anaconda3/envs/Clarusway/lib/python3.10/site-packages (from statsmodels->dtale) (0.5.3)\n",
      "Requirement already satisfied: packaging>=21.3 in /Applications/anaconda3/envs/Clarusway/lib/python3.10/site-packages (from statsmodels->dtale) (23.0)\n",
      "Using cached dtale-3.3.0-py2.py3-none-any.whl (14.2 MB)\n",
      "Using cached dash-2.13.0-py3-none-any.whl (10.4 MB)\n",
      "Downloading xarray-2023.8.0-py3-none-any.whl (1.0 MB)\n",
      "\u001b[2K   \u001b[90m━━━━━━━━━━━━━━━━━━━━━━━━━━━━━━━━━━━━━━━━\u001b[0m \u001b[32m1.0/1.0 MB\u001b[0m \u001b[31m7.3 MB/s\u001b[0m eta \u001b[36m0:00:00\u001b[0ma \u001b[36m0:00:01\u001b[0m\n",
      "\u001b[?25hBuilding wheels for collected packages: future, dash-colorscales, dash-daq\n",
      "  Building wheel for future (setup.py) ... \u001b[?25ldone\n",
      "\u001b[?25h  Created wheel for future: filename=future-0.18.3-py3-none-any.whl size=492025 sha256=963e26dacf0725fa25b0a94c8b438b28a6410bccacb120386fce2153a09775be\n",
      "  Stored in directory: /Users/rr/Library/Caches/pip/wheels/5e/a9/47/f118e66afd12240e4662752cc22cefae5d97275623aa8ef57d\n",
      "  Building wheel for dash-colorscales (setup.py) ... \u001b[?25ldone\n",
      "\u001b[?25h  Created wheel for dash-colorscales: filename=dash_colorscales-0.0.4-py3-none-any.whl size=62566 sha256=54453e30127c8e159db8b935fd0c74741a5cc1baa5f8b7203b9fbf62c6a36735\n",
      "  Stored in directory: /Users/rr/Library/Caches/pip/wheels/70/6a/1f/95b2135cd2c895f0cd8b5d6d6ae7d5ed0a883580b34a31a14d\n",
      "  Building wheel for dash-daq (setup.py) ... \u001b[?25ldone\n",
      "\u001b[?25h  Created wheel for dash-daq: filename=dash_daq-0.5.0-py3-none-any.whl size=669694 sha256=95081418d861665a493652d9df51c8335fb28441e623b62e717a36d698c23b14\n",
      "  Stored in directory: /Users/rr/Library/Caches/pip/wheels/75/14/1b/208d09d5e239391048bdc167759977b41ba65a3d4063aebf6b\n",
      "Successfully built future dash-colorscales dash-daq\n",
      "Installing collected packages: strsimpy, squarify, kaleido, dash-table, dash-html-components, dash-core-components, dash-colorscales, brotli, xlrd, retrying, future, et-xmlfile, ansi2html, openpyxl, xarray, flask-ngrok, Flask-Compress, dash, missingno, dash-daq, dash-bootstrap-components, dtale\n",
      "Successfully installed Flask-Compress-1.13 ansi2html-1.8.0 brotli-1.0.9 dash-2.13.0 dash-bootstrap-components-1.3.1 dash-colorscales-0.0.4 dash-core-components-2.0.0 dash-daq-0.5.0 dash-html-components-2.0.0 dash-table-5.0.0 dtale-3.3.0 et-xmlfile-1.1.0 flask-ngrok-0.0.25 future-0.18.3 kaleido-0.2.1 missingno-0.5.2 openpyxl-3.1.2 retrying-1.3.4 squarify-0.4.3 strsimpy-0.2.1 xarray-2023.8.0 xlrd-2.0.1\n"
     ]
    }
   ],
   "source": [
    "! pip install -U dtale"
   ]
  },
  {
   "cell_type": "code",
   "execution_count": 9,
   "id": "e55a84ec-67b2-4356-b4a0-a19183eda921",
   "metadata": {
    "tags": []
   },
   "outputs": [
    {
     "data": {
      "text/html": [
       "\n",
       "        <iframe\n",
       "            width=\"100%\"\n",
       "            height=\"475\"\n",
       "            src=\"http://RR-Mac-Mini.fritz.box:40000/dtale/iframe/1\"\n",
       "            frameborder=\"0\"\n",
       "            allowfullscreen\n",
       "            \n",
       "        ></iframe>\n",
       "        "
      ],
      "text/plain": [
       "<IPython.lib.display.IFrame at 0x7ff19063e650>"
      ]
     },
     "metadata": {},
     "output_type": "display_data"
    },
    {
     "data": {
      "text/plain": []
     },
     "execution_count": 9,
     "metadata": {},
     "output_type": "execute_result"
    }
   ],
   "source": [
    "import dtale\n",
    "import pandas as pd\n",
    "\n",
    "df = pd.read_csv('final_scout_not_dummy.csv')\n",
    "dtale.show(df)"
   ]
  },
  {
   "cell_type": "code",
   "execution_count": null,
   "id": "9205c46b-93af-4a9f-b56f-cbb6bb38f219",
   "metadata": {},
   "outputs": [],
   "source": []
  }
 ],
 "metadata": {
  "kernelspec": {
   "display_name": "Python 3 (ipykernel)",
   "language": "python",
   "name": "python3"
  },
  "language_info": {
   "codemirror_mode": {
    "name": "ipython",
    "version": 3
   },
   "file_extension": ".py",
   "mimetype": "text/x-python",
   "name": "python",
   "nbconvert_exporter": "python",
   "pygments_lexer": "ipython3",
   "version": "3.10.12"
  }
 },
 "nbformat": 4,
 "nbformat_minor": 5
}
